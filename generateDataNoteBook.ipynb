{
 "cells": [
  {
   "cell_type": "code",
   "execution_count": 120,
   "metadata": {},
   "outputs": [],
   "source": [
    "import pandas as pd \n",
    "import chardet\n",
    "\n",
    "data = pd.read_csv(\"calls_2202004041314.csv\", delimiter=',', )\n",
    "totalNodes =list(data.calling_nbr) + list(data.called_nbr)\n",
    "totalNodes = set(totalNodes)\n",
    "totalNodes = pd.DataFrame(totalNodes)\n",
    "totalNodes = totalNodes.rename(columns={0: \"calling_nbr\"})"
   ]
  },
  {
   "cell_type": "code",
   "execution_count": 223,
   "metadata": {},
   "outputs": [],
   "source": [
    "import random\n",
    "probability = {}\n",
    "nodes = totalNodes.copy()\n",
    "edges = totalNodes.copy()\n",
    "\n",
    "groups=['Kailali', 'Kanchanpur', 'Kathmandu', 'Lalitpur', 'Bhaktapur', 'Bharatpur', 'Chitwan', 'Birganj', 'Pokhara', 'Biratnagar']\n",
    "\n",
    "def generateCalledNumber(x):\n",
    "    idx = random.randint(1,len(totalNodes)-1)\n",
    "    temp = totalNodes.calling_nbr[idx]\n",
    "    while temp == x.calling_nbr :\n",
    "        idx = random.randint(1,len(totalNodes)-5)\n",
    "        temp = totalNodes.calling_nbr[idx]\n",
    "\n",
    "    return temp\n",
    "\n",
    "def infection_probability(x):\n",
    "    return random.randint(0,50)\n",
    "\n",
    "def make_title(x):\n",
    "    return str('Location: '+ groups[x.group] + ' <br>Infection Probab.: '+ str(x.value/0.5)) + ' <br>MSISDN.: '+ x.label\n",
    "\n",
    "nodes['value'] = totalNodes.apply(lambda x: infection_probability(x), axis=1) #infection probability\n",
    "nodes['group'] = totalNodes.apply(lambda x: random.randint(0,len(groups)-1), axis=1) #probable location / group\n",
    "nodes['label'] = totalNodes.apply(lambda x: x.calling_nbr, axis=1) #probable group\n",
    "\n",
    "nodes['title'] = nodes.apply(lambda x: make_title(x), axis=1) #probable group\n",
    "\n",
    "\n",
    "nodes = nodes.rename(columns={\"calling_nbr\": \"id\"})"
   ]
  },
  {
   "cell_type": "code",
   "execution_count": 224,
   "metadata": {},
   "outputs": [],
   "source": [
    "edges['to'] = totalNodes.apply(lambda x: generateCalledNumber(x), axis=1) #probable group\n",
    "edges = edges.rename(columns={\"calling_nbr\": \"from\"})"
   ]
  },
  {
   "cell_type": "code",
   "execution_count": 225,
   "metadata": {},
   "outputs": [],
   "source": [
    "# nodes = [\n",
    "#   {\"id\": 1, \"label\": 'Abdelmoumene Djabou', \"title\": 'Country: ' + 'Algeria' + '<br>' + 'Team: ' + 'Club Africain', \"value\": 22, \"group\": 24, \"x\": -1392.5499, \"y\": 1124.1614},\n",
    "#   {\"id\": 2, \"label\": 'Abel Aguilar', \"title\": 'Country: ' + 'Colombia' + '<br>' + 'Team: ' + 'Toulouse', \"value\": 24, \"group\": 11, \"x\": -660.82574, \"y\": 1009.18976},\n",
    "#   {\"id\": 3, \"label\": 'Abel HernÃ¡ndez', \"title\": 'Country: ' + 'Uruguay' + '<br>' + 'Team: ' + 'Palermo', \"value\": 22, \"group\": 6, \"x\": -85.6025, \"y\": -6.6782646},\n",
    "#   {\"id\": 4, \"label\": 'Adam Kwarasey', \"title\": 'Country: ' + 'Ghana' + '<br>' + 'Team: ' + 'StrÃ¸msgodset', \"value\": 22, \"group\": 5, \"x\": 427.39853, \"y\": 1398.1719},\n",
    "#   {\"id\": 5, \"label\": 'Adam Lallana', \"title\": 'Country: ' + 'England' + '<br>' + 'Team: ' + 'Southampton', \"value\": 26, \"group\": 28, \"x\": -133.68427, \"y\": -732.50476},\n",
    "#   {\"id\": 6, \"label\": 'Adam Taggart', \"title\": 'Country: ' + 'Australia' + '<br>' + 'Team: ' + 'Newcastle Jets', \"value\": 22, \"group\": 12, \"x\": 2042.4272, \"y\": -579.6042},]"
   ]
  },
  {
   "cell_type": "code",
   "execution_count": 226,
   "metadata": {},
   "outputs": [],
   "source": [
    "# edges = [\n",
    "#     { \"from\": 1, \"to\": 2 },\n",
    "#     { \"from\": 1, \"to\": 3 },\n",
    "#     { \"from\": 2, \"to\": 1 },\n",
    "#     { \"from\": 1, \"to\": 3 },\n",
    "#     { \"from\": 1, \"to\": 5 },]"
   ]
  },
  {
   "cell_type": "code",
   "execution_count": 227,
   "metadata": {},
   "outputs": [],
   "source": [
    "# import json\n",
    "\n",
    "# nodes_dm = json.dumps(list(nodes)) # '[1, 2, [3, 4]]'\n",
    "# edges_dm = json.dumps(list(edges)) # '[1, 2, [3, 4]]'\n",
    "\n",
    "nodes_dm = nodes.to_json( orient='records')\n",
    "edges_dm = edges.to_json( orient='records')"
   ]
  },
  {
   "cell_type": "code",
   "execution_count": 228,
   "metadata": {},
   "outputs": [],
   "source": [
    "with open(\"./generatedData.js\", \"w\") as text_file:\n",
    "#     text_file.write(\"var nodes =\" + nodes_dm+'\\n' + \"var edges =\" + edges_dm)\n",
    "    text_file.write(\"var nodes =\" + nodes_dm+'\\n' + \"var edges =\" + edges_dm)"
   ]
  },
  {
   "cell_type": "code",
   "execution_count": 229,
   "metadata": {},
   "outputs": [],
   "source": [
    "import json\n",
    "# data.to_json( orient='records')"
   ]
  },
  {
   "cell_type": "code",
   "execution_count": null,
   "metadata": {},
   "outputs": [],
   "source": []
  }
 ],
 "metadata": {
  "kernelspec": {
   "display_name": "Python 3",
   "language": "python",
   "name": "python3"
  },
  "language_info": {
   "codemirror_mode": {
    "name": "ipython",
    "version": 3
   },
   "file_extension": ".py",
   "mimetype": "text/x-python",
   "name": "python",
   "nbconvert_exporter": "python",
   "pygments_lexer": "ipython3",
   "version": "3.6.8"
  }
 },
 "nbformat": 4,
 "nbformat_minor": 4
}
