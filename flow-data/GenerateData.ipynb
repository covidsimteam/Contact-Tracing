{
 "cells": [
  {
   "cell_type": "code",
   "execution_count": 77,
   "metadata": {},
   "outputs": [],
   "source": [
    "import pandas as pd \n",
    "import geojson\n",
    "\n",
    "data = pd.read_csv(\"day_wise_location.csv\", delimiter=',', )\n",
    "import numpy as np"
   ]
  },
  {
   "cell_type": "code",
   "execution_count": 78,
   "metadata": {},
   "outputs": [
    {
     "data": {
      "text/html": [
       "<div>\n",
       "<style scoped>\n",
       "    .dataframe tbody tr th:only-of-type {\n",
       "        vertical-align: middle;\n",
       "    }\n",
       "\n",
       "    .dataframe tbody tr th {\n",
       "        vertical-align: top;\n",
       "    }\n",
       "\n",
       "    .dataframe thead th {\n",
       "        text-align: right;\n",
       "    }\n",
       "</style>\n",
       "<table border=\"1\" class=\"dataframe\">\n",
       "  <thead>\n",
       "    <tr style=\"text-align: right;\">\n",
       "      <th></th>\n",
       "      <th>cell_name</th>\n",
       "      <th>district</th>\n",
       "      <th>region</th>\n",
       "      <th>latitude</th>\n",
       "      <th>longitude</th>\n",
       "    </tr>\n",
       "  </thead>\n",
       "  <tbody>\n",
       "    <tr>\n",
       "      <th>0</th>\n",
       "      <td>WBHE149B</td>\n",
       "      <td>SURKHET</td>\n",
       "      <td>BHERI</td>\n",
       "      <td>28.418500</td>\n",
       "      <td>81.798200</td>\n",
       "    </tr>\n",
       "    <tr>\n",
       "      <th>1</th>\n",
       "      <td>GBAG131A</td>\n",
       "      <td>KATHMANDU</td>\n",
       "      <td>BAGMATI</td>\n",
       "      <td>27.771550</td>\n",
       "      <td>85.269680</td>\n",
       "    </tr>\n",
       "    <tr>\n",
       "      <th>2</th>\n",
       "      <td>GBRJ004Z</td>\n",
       "      <td>PARSA</td>\n",
       "      <td>NARAYANI</td>\n",
       "      <td>27.013356</td>\n",
       "      <td>84.890527</td>\n",
       "    </tr>\n",
       "    <tr>\n",
       "      <th>3</th>\n",
       "      <td>WKAT489A</td>\n",
       "      <td>KATHMANDU</td>\n",
       "      <td>BAGMATI</td>\n",
       "      <td>27.736000</td>\n",
       "      <td>85.309030</td>\n",
       "    </tr>\n",
       "    <tr>\n",
       "      <th>5</th>\n",
       "      <td>WKAT092A</td>\n",
       "      <td>BHAKTAPUR</td>\n",
       "      <td>BAGMATI</td>\n",
       "      <td>27.665495</td>\n",
       "      <td>85.425798</td>\n",
       "    </tr>\n",
       "    <tr>\n",
       "      <th>...</th>\n",
       "      <td>...</td>\n",
       "      <td>...</td>\n",
       "      <td>...</td>\n",
       "      <td>...</td>\n",
       "      <td>...</td>\n",
       "    </tr>\n",
       "    <tr>\n",
       "      <th>995</th>\n",
       "      <td>GKAT036A</td>\n",
       "      <td>KATHMANDU</td>\n",
       "      <td>BAGMATI</td>\n",
       "      <td>27.735103</td>\n",
       "      <td>85.331537</td>\n",
       "    </tr>\n",
       "    <tr>\n",
       "      <th>996</th>\n",
       "      <td>GKAT391A</td>\n",
       "      <td>KATHMANDU</td>\n",
       "      <td>BAGMATI</td>\n",
       "      <td>27.721210</td>\n",
       "      <td>85.285620</td>\n",
       "    </tr>\n",
       "    <tr>\n",
       "      <th>997</th>\n",
       "      <td>WBUT001A</td>\n",
       "      <td>RUPANDEHI</td>\n",
       "      <td>LUMBINI</td>\n",
       "      <td>27.701671</td>\n",
       "      <td>83.465913</td>\n",
       "    </tr>\n",
       "    <tr>\n",
       "      <th>998</th>\n",
       "      <td>WGAN106A</td>\n",
       "      <td>GORKHA</td>\n",
       "      <td>GANDAKI</td>\n",
       "      <td>28.009990</td>\n",
       "      <td>84.714190</td>\n",
       "    </tr>\n",
       "    <tr>\n",
       "      <th>999</th>\n",
       "      <td>GKAT417C</td>\n",
       "      <td>KATHMANDU</td>\n",
       "      <td>BAGMATI</td>\n",
       "      <td>27.744100</td>\n",
       "      <td>85.327000</td>\n",
       "    </tr>\n",
       "  </tbody>\n",
       "</table>\n",
       "<p>919 rows × 5 columns</p>\n",
       "</div>"
      ],
      "text/plain": [
       "    cell_name   district    region   latitude  longitude\n",
       "0    WBHE149B    SURKHET     BHERI  28.418500  81.798200\n",
       "1    GBAG131A  KATHMANDU   BAGMATI  27.771550  85.269680\n",
       "2    GBRJ004Z      PARSA  NARAYANI  27.013356  84.890527\n",
       "3    WKAT489A  KATHMANDU   BAGMATI  27.736000  85.309030\n",
       "5    WKAT092A  BHAKTAPUR   BAGMATI  27.665495  85.425798\n",
       "..        ...        ...       ...        ...        ...\n",
       "995  GKAT036A  KATHMANDU   BAGMATI  27.735103  85.331537\n",
       "996  GKAT391A  KATHMANDU   BAGMATI  27.721210  85.285620\n",
       "997  WBUT001A  RUPANDEHI   LUMBINI  27.701671  83.465913\n",
       "998  WGAN106A     GORKHA   GANDAKI  28.009990  84.714190\n",
       "999  GKAT417C  KATHMANDU   BAGMATI  27.744100  85.327000\n",
       "\n",
       "[919 rows x 5 columns]"
      ]
     },
     "execution_count": 78,
     "metadata": {},
     "output_type": "execute_result"
    }
   ],
   "source": [
    "df1 = data.drop_duplicates(subset ='cell_name', keep=False)\n",
    "df1 = df1.drop(['day_id', 'msisdn'], axis=1)\n",
    "df1 = df1.fillna(0)\n",
    "df1"
   ]
  },
  {
   "cell_type": "code",
   "execution_count": 79,
   "metadata": {},
   "outputs": [],
   "source": [
    "def data2geojson(dfx):\n",
    "    features = []\n",
    "    insert_features = lambda X: features.append(\n",
    "            geojson.Feature(geometry=geojson.Point((X[\"longitude\"],\n",
    "                                                    X[\"latitude\"]),\n",
    "                           ),\n",
    "                             properties=dict(name=X[\"cell_name\"],\n",
    "                                            description=X[\"district\"],  LAT= X[\"latitude\"], LON= X[\"longitude\"] \n",
    "                                            ),\n",
    "                            id= X[\"cell_name\"]\n",
    "                           ))\n",
    "    dfx.apply(insert_features, axis=1)\n",
    "    \n",
    "    with open('map1.geojson', 'w', encoding='utf8') as fp:\n",
    "        geojson.dump(geojson.FeatureCollection(features), fp, sort_keys=True, ensure_ascii=False)\n",
    "    return geojson.FeatureCollection(features)\n"
   ]
  },
  {
   "cell_type": "code",
   "execution_count": 86,
   "metadata": {},
   "outputs": [],
   "source": [
    "df2= data2geojson(df1)\n",
    "from random import sample\n",
    "import random\n"
   ]
  },
  {
   "cell_type": "code",
   "execution_count": 106,
   "metadata": {},
   "outputs": [],
   "source": [
    "df_0 = None\n",
    "df_0 = pd.DataFrame(columns=['target', 'source',])"
   ]
  },
  {
   "cell_type": "code",
   "execution_count": 107,
   "metadata": {},
   "outputs": [],
   "source": [
    "for i in range(200):\n",
    "    df_0.loc[i] = [df2[random.randint(0,len(df1)-1)].id, df2[random.randint(0,len(df1)-1)].id]"
   ]
  },
  {
   "cell_type": "code",
   "execution_count": 108,
   "metadata": {},
   "outputs": [],
   "source": [
    "df_0['flow'] = np.random.uniform(0,size=len(df_0))"
   ]
  },
  {
   "cell_type": "code",
   "execution_count": 109,
   "metadata": {},
   "outputs": [],
   "source": [
    "df_0.to_csv('links.csv')"
   ]
  },
  {
   "cell_type": "code",
   "execution_count": null,
   "metadata": {},
   "outputs": [],
   "source": []
  },
  {
   "cell_type": "code",
   "execution_count": null,
   "metadata": {},
   "outputs": [],
   "source": []
  }
 ],
 "metadata": {
  "kernelspec": {
   "display_name": "Python 3",
   "language": "python",
   "name": "python3"
  },
  "language_info": {
   "codemirror_mode": {
    "name": "ipython",
    "version": 3
   },
   "file_extension": ".py",
   "mimetype": "text/x-python",
   "name": "python",
   "nbconvert_exporter": "python",
   "pygments_lexer": "ipython3",
   "version": "3.6.8"
  }
 },
 "nbformat": 4,
 "nbformat_minor": 4
}
